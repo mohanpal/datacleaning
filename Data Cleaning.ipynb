{
  "cells": [
    {
      "metadata": {},
      "cell_type": "markdown",
      "source": "Data set Source: https://archive.ics.uci.edu/ml/datasets/Credit+Approval\n\nThe descriptive features below are produced from the crx.names file:\n\nA1:b, a.\nA2:continuous.\nA3:continuous.\nA4:u, y, l, t.\nA5:g, p, gg.\nA6:c, d, cc, i, j, k, m, r, q, w, x, e, aa, ff.\nA7:v, h, bb, j, n, z, dd, ff, o.\nA8:continuous.\nA9:t, f.\nA10:t, f.\nA11:continuous.\nA12:t, f.\nA13:g, p, s.\nA14:continuous.\nA15:continuous.\nA16: +,-    # (class attribute)"
    },
    {
      "metadata": {
        "trusted": false
      },
      "cell_type": "code",
      "source": "#Imported necessary Modules and Loaded the data !</h1>\n\n\nimport numpy as np\nimport pandas as pd\n\nimport os, ssl\nif (not os.environ.get('PYTHONHTTPSVERIFY', '') and\n    getattr(ssl, '_create_unverified_context', None)): \n    ssl._create_default_https_context = ssl._create_unverified_context\n\n\nuci_df = pd.read_csv('Assignment1_Q1_crx.data', sep = ',',names = [\"A1\", \"A2\", \"A3\", \"A4\", \"A5\", \"A6\", \"A7\", \"A8\", \"A9\", \"A10\", \"A11\", \"A12\", \"A13\", \"A14\", \"A15\",\"A16\"]) \n\nuci_df.shape",
      "execution_count": 1,
      "outputs": [
        {
          "data": {
            "text/plain": "(690, 16)"
          },
          "execution_count": 1,
          "metadata": {},
          "output_type": "execute_result"
        }
      ]
    },
    {
      "metadata": {
        "trusted": false
      },
      "cell_type": "code",
      "source": "uci_df.head()",
      "execution_count": 2,
      "outputs": [
        {
          "data": {
            "text/html": "<div>\n<style>\n    .dataframe tbody tr th:only-of-type {\n        vertical-align: middle;\n    }\n\n    .dataframe tbody tr th {\n        vertical-align: top;\n    }\n\n    .dataframe thead th {\n        text-align: right;\n    }\n</style>\n<table class=\"dataframe\">\n  <thead>\n    <tr style=\"text-align: right;\">\n      <th></th>\n      <th>A1</th>\n      <th>A2</th>\n      <th>A3</th>\n      <th>A4</th>\n      <th>A5</th>\n      <th>A6</th>\n      <th>A7</th>\n      <th>A8</th>\n      <th>A9</th>\n      <th>A10</th>\n      <th>A11</th>\n      <th>A12</th>\n      <th>A13</th>\n      <th>A14</th>\n      <th>A15</th>\n      <th>A16</th>\n    </tr>\n  </thead>\n  <tbody>\n    <tr>\n      <th>0</th>\n      <td>b</td>\n      <td>30.83</td>\n      <td>0.000</td>\n      <td>u</td>\n      <td>g</td>\n      <td>w</td>\n      <td>v</td>\n      <td>1.25</td>\n      <td>t</td>\n      <td>t</td>\n      <td>1</td>\n      <td>f</td>\n      <td>g</td>\n      <td>00202</td>\n      <td>0</td>\n      <td>+</td>\n    </tr>\n    <tr>\n      <th>1</th>\n      <td>a</td>\n      <td>58.67</td>\n      <td>4.460</td>\n      <td>u</td>\n      <td>g</td>\n      <td>q</td>\n      <td>h</td>\n      <td>3.04</td>\n      <td>t</td>\n      <td>t</td>\n      <td>6</td>\n      <td>f</td>\n      <td>g</td>\n      <td>00043</td>\n      <td>560</td>\n      <td>+</td>\n    </tr>\n    <tr>\n      <th>2</th>\n      <td>a</td>\n      <td>24.50</td>\n      <td>0.500</td>\n      <td>u</td>\n      <td>g</td>\n      <td>q</td>\n      <td>h</td>\n      <td>1.50</td>\n      <td>t</td>\n      <td>f</td>\n      <td>0</td>\n      <td>f</td>\n      <td>g</td>\n      <td>00280</td>\n      <td>824</td>\n      <td>+</td>\n    </tr>\n    <tr>\n      <th>3</th>\n      <td>b</td>\n      <td>27.83</td>\n      <td>1.540</td>\n      <td>u</td>\n      <td>g</td>\n      <td>w</td>\n      <td>v</td>\n      <td>3.75</td>\n      <td>t</td>\n      <td>t</td>\n      <td>5</td>\n      <td>t</td>\n      <td>g</td>\n      <td>00100</td>\n      <td>3</td>\n      <td>+</td>\n    </tr>\n    <tr>\n      <th>4</th>\n      <td>b</td>\n      <td>20.17</td>\n      <td>5.625</td>\n      <td>u</td>\n      <td>g</td>\n      <td>w</td>\n      <td>v</td>\n      <td>1.71</td>\n      <td>t</td>\n      <td>f</td>\n      <td>0</td>\n      <td>f</td>\n      <td>s</td>\n      <td>00120</td>\n      <td>0</td>\n      <td>+</td>\n    </tr>\n  </tbody>\n</table>\n</div>",
            "text/plain": "  A1     A2     A3 A4 A5 A6 A7    A8 A9 A10  A11 A12 A13    A14  A15 A16\n0  b  30.83  0.000  u  g  w  v  1.25  t   t    1   f   g  00202    0   +\n1  a  58.67  4.460  u  g  q  h  3.04  t   t    6   f   g  00043  560   +\n2  a  24.50  0.500  u  g  q  h  1.50  t   f    0   f   g  00280  824   +\n3  b  27.83  1.540  u  g  w  v  3.75  t   t    5   t   g  00100    3   +\n4  b  20.17  5.625  u  g  w  v  1.71  t   f    0   f   s  00120    0   +"
          },
          "execution_count": 2,
          "metadata": {},
          "output_type": "execute_result"
        }
      ]
    },
    {
      "metadata": {
        "trusted": false
      },
      "cell_type": "code",
      "source": "#checking Data types \nuci_df.dtypes\n",
      "execution_count": 3,
      "outputs": [
        {
          "data": {
            "text/plain": "A1      object\nA2      object\nA3     float64\nA4      object\nA5      object\nA6      object\nA7      object\nA8     float64\nA9      object\nA10     object\nA11      int64\nA12     object\nA13     object\nA14     object\nA15      int64\nA16     object\ndtype: object"
          },
          "execution_count": 3,
          "metadata": {},
          "output_type": "execute_result"
        }
      ]
    },
    {
      "metadata": {
        "trusted": false
      },
      "cell_type": "code",
      "source": "uci_df.describe(include = np.object).round(2) #categorical feature",
      "execution_count": 4,
      "outputs": [
        {
          "data": {
            "text/html": "<div>\n<style>\n    .dataframe tbody tr th:only-of-type {\n        vertical-align: middle;\n    }\n\n    .dataframe tbody tr th {\n        vertical-align: top;\n    }\n\n    .dataframe thead th {\n        text-align: right;\n    }\n</style>\n<table class=\"dataframe\">\n  <thead>\n    <tr style=\"text-align: right;\">\n      <th></th>\n      <th>A1</th>\n      <th>A2</th>\n      <th>A4</th>\n      <th>A5</th>\n      <th>A6</th>\n      <th>A7</th>\n      <th>A9</th>\n      <th>A10</th>\n      <th>A12</th>\n      <th>A13</th>\n      <th>A14</th>\n      <th>A16</th>\n    </tr>\n  </thead>\n  <tbody>\n    <tr>\n      <th>count</th>\n      <td>690</td>\n      <td>690</td>\n      <td>690</td>\n      <td>690</td>\n      <td>690</td>\n      <td>690</td>\n      <td>690</td>\n      <td>690</td>\n      <td>690</td>\n      <td>690</td>\n      <td>690</td>\n      <td>690</td>\n    </tr>\n    <tr>\n      <th>unique</th>\n      <td>3</td>\n      <td>350</td>\n      <td>4</td>\n      <td>4</td>\n      <td>15</td>\n      <td>10</td>\n      <td>2</td>\n      <td>2</td>\n      <td>2</td>\n      <td>3</td>\n      <td>171</td>\n      <td>2</td>\n    </tr>\n    <tr>\n      <th>top</th>\n      <td>b</td>\n      <td>?</td>\n      <td>u</td>\n      <td>g</td>\n      <td>c</td>\n      <td>v</td>\n      <td>t</td>\n      <td>f</td>\n      <td>f</td>\n      <td>g</td>\n      <td>00000</td>\n      <td>-</td>\n    </tr>\n    <tr>\n      <th>freq</th>\n      <td>468</td>\n      <td>12</td>\n      <td>519</td>\n      <td>519</td>\n      <td>137</td>\n      <td>399</td>\n      <td>361</td>\n      <td>395</td>\n      <td>374</td>\n      <td>625</td>\n      <td>132</td>\n      <td>383</td>\n    </tr>\n  </tbody>\n</table>\n</div>",
            "text/plain": "         A1   A2   A4   A5   A6   A7   A9  A10  A12  A13    A14  A16\ncount   690  690  690  690  690  690  690  690  690  690    690  690\nunique    3  350    4    4   15   10    2    2    2    3    171    2\ntop       b    ?    u    g    c    v    t    f    f    g  00000    -\nfreq    468   12  519  519  137  399  361  395  374  625    132  383"
          },
          "execution_count": 4,
          "metadata": {},
          "output_type": "execute_result"
        }
      ]
    },
    {
      "metadata": {
        "trusted": false
      },
      "cell_type": "code",
      "source": "uci_df.describe(include = np.number).round(2) # numerical feature",
      "execution_count": 5,
      "outputs": [
        {
          "data": {
            "text/html": "<div>\n<style>\n    .dataframe tbody tr th:only-of-type {\n        vertical-align: middle;\n    }\n\n    .dataframe tbody tr th {\n        vertical-align: top;\n    }\n\n    .dataframe thead th {\n        text-align: right;\n    }\n</style>\n<table class=\"dataframe\">\n  <thead>\n    <tr style=\"text-align: right;\">\n      <th></th>\n      <th>A3</th>\n      <th>A8</th>\n      <th>A11</th>\n      <th>A15</th>\n    </tr>\n  </thead>\n  <tbody>\n    <tr>\n      <th>count</th>\n      <td>690.00</td>\n      <td>690.00</td>\n      <td>690.00</td>\n      <td>690.00</td>\n    </tr>\n    <tr>\n      <th>mean</th>\n      <td>4.76</td>\n      <td>2.22</td>\n      <td>2.40</td>\n      <td>1017.39</td>\n    </tr>\n    <tr>\n      <th>std</th>\n      <td>4.98</td>\n      <td>3.35</td>\n      <td>4.86</td>\n      <td>5210.10</td>\n    </tr>\n    <tr>\n      <th>min</th>\n      <td>0.00</td>\n      <td>0.00</td>\n      <td>0.00</td>\n      <td>0.00</td>\n    </tr>\n    <tr>\n      <th>25%</th>\n      <td>1.00</td>\n      <td>0.16</td>\n      <td>0.00</td>\n      <td>0.00</td>\n    </tr>\n    <tr>\n      <th>50%</th>\n      <td>2.75</td>\n      <td>1.00</td>\n      <td>0.00</td>\n      <td>5.00</td>\n    </tr>\n    <tr>\n      <th>75%</th>\n      <td>7.21</td>\n      <td>2.62</td>\n      <td>3.00</td>\n      <td>395.50</td>\n    </tr>\n    <tr>\n      <th>max</th>\n      <td>28.00</td>\n      <td>28.50</td>\n      <td>67.00</td>\n      <td>100000.00</td>\n    </tr>\n  </tbody>\n</table>\n</div>",
            "text/plain": "           A3      A8     A11        A15\ncount  690.00  690.00  690.00     690.00\nmean     4.76    2.22    2.40    1017.39\nstd      4.98    3.35    4.86    5210.10\nmin      0.00    0.00    0.00       0.00\n25%      1.00    0.16    0.00       0.00\n50%      2.75    1.00    0.00       5.00\n75%      7.21    2.62    3.00     395.50\nmax     28.00   28.50   67.00  100000.00"
          },
          "execution_count": 5,
          "metadata": {},
          "output_type": "execute_result"
        }
      ]
    },
    {
      "metadata": {
        "trusted": false
      },
      "cell_type": "code",
      "source": "  # checking unusual values among the columns to understand about missing values , Similarly we can check the unique calues for all the columns\n    \nuci_df['A1'].unique()",
      "execution_count": 6,
      "outputs": [
        {
          "data": {
            "text/plain": "array(['b', 'a', '?'], dtype=object)"
          },
          "execution_count": 6,
          "metadata": {},
          "output_type": "execute_result"
        }
      ]
    },
    {
      "metadata": {},
      "cell_type": "markdown",
      "source": "# # Setting all unusual value to NaN"
    },
    {
      "metadata": {
        "trusted": false
      },
      "cell_type": "code",
      "source": "# replacing unusual values with NaN\n\nuci_df1 = uci_df.replace('?' ,np.nan)  \nuci_df1.describe(include = np.object)\nuci_df1.isnull().sum()",
      "execution_count": 7,
      "outputs": [
        {
          "data": {
            "text/plain": "A1     12\nA2     12\nA3      0\nA4      6\nA5      6\nA6      9\nA7      9\nA8      0\nA9      0\nA10     0\nA11     0\nA12     0\nA13     0\nA14    13\nA15     0\nA16     0\ndtype: int64"
          },
          "execution_count": 7,
          "metadata": {},
          "output_type": "execute_result"
        }
      ]
    },
    {
      "metadata": {
        "trusted": false
      },
      "cell_type": "code",
      "source": "#changing data type to float\nuci_df1['A2'] = uci_df1.A2.astype(float)\nuci_df1['A14'] = uci_df1.A14.astype(float)\nuci_df1.dtypes",
      "execution_count": 8,
      "outputs": [
        {
          "data": {
            "text/plain": "A1      object\nA2     float64\nA3     float64\nA4      object\nA5      object\nA6      object\nA7      object\nA8     float64\nA9      object\nA10     object\nA11      int64\nA12     object\nA13     object\nA14    float64\nA15      int64\nA16     object\ndtype: object"
          },
          "execution_count": 8,
          "metadata": {},
          "output_type": "execute_result"
        }
      ]
    },
    {
      "metadata": {},
      "cell_type": "markdown",
      "source": "# # Imputation"
    },
    {
      "metadata": {
        "trusted": false
      },
      "cell_type": "code",
      "source": "#imputing Numerical Feature\nuci_df1['A2'].fillna(uci_df1['A2'].median(axis = 0),inplace = True)\nuci_df1['A14'].fillna(uci_df1['A14'].median(axis = 0),inplace = True)\n",
      "execution_count": 9,
      "outputs": []
    },
    {
      "metadata": {
        "trusted": false
      },
      "cell_type": "code",
      "source": "#imputing categorical Feature\nfor column in ['A1', 'A4', 'A5', 'A6','A7','A9','A10','A12','A13','A16']:\n    uci_df1[column].fillna(uci_df1[column].mode()[0], inplace=True)\n",
      "execution_count": 10,
      "outputs": []
    },
    {
      "metadata": {
        "trusted": false
      },
      "cell_type": "code",
      "source": "uci_df1.isnull().sum() # checking whether imputation is sucessful or not",
      "execution_count": 11,
      "outputs": [
        {
          "data": {
            "text/plain": "A1     0\nA2     0\nA3     0\nA4     0\nA5     0\nA6     0\nA7     0\nA8     0\nA9     0\nA10    0\nA11    0\nA12    0\nA13    0\nA14    0\nA15    0\nA16    0\ndtype: int64"
          },
          "execution_count": 11,
          "metadata": {},
          "output_type": "execute_result"
        }
      ]
    },
    {
      "metadata": {},
      "cell_type": "markdown",
      "source": "# # Binning"
    },
    {
      "metadata": {
        "trusted": false
      },
      "cell_type": "code",
      "source": "##Binning \nuci_df2 = uci_df1.copy()\n\nuci_df2['A2'] = pd.qcut(uci_df2['A2'], q=3, \n                                     labels=['low', 'medium', 'high'])\nuci_df2.head()",
      "execution_count": 12,
      "outputs": [
        {
          "data": {
            "text/html": "<div>\n<style>\n    .dataframe tbody tr th:only-of-type {\n        vertical-align: middle;\n    }\n\n    .dataframe tbody tr th {\n        vertical-align: top;\n    }\n\n    .dataframe thead th {\n        text-align: right;\n    }\n</style>\n<table class=\"dataframe\">\n  <thead>\n    <tr style=\"text-align: right;\">\n      <th></th>\n      <th>A1</th>\n      <th>A2</th>\n      <th>A3</th>\n      <th>A4</th>\n      <th>A5</th>\n      <th>A6</th>\n      <th>A7</th>\n      <th>A8</th>\n      <th>A9</th>\n      <th>A10</th>\n      <th>A11</th>\n      <th>A12</th>\n      <th>A13</th>\n      <th>A14</th>\n      <th>A15</th>\n      <th>A16</th>\n    </tr>\n  </thead>\n  <tbody>\n    <tr>\n      <th>0</th>\n      <td>b</td>\n      <td>medium</td>\n      <td>0.000</td>\n      <td>u</td>\n      <td>g</td>\n      <td>w</td>\n      <td>v</td>\n      <td>1.25</td>\n      <td>t</td>\n      <td>t</td>\n      <td>1</td>\n      <td>f</td>\n      <td>g</td>\n      <td>202.0</td>\n      <td>0</td>\n      <td>+</td>\n    </tr>\n    <tr>\n      <th>1</th>\n      <td>a</td>\n      <td>high</td>\n      <td>4.460</td>\n      <td>u</td>\n      <td>g</td>\n      <td>q</td>\n      <td>h</td>\n      <td>3.04</td>\n      <td>t</td>\n      <td>t</td>\n      <td>6</td>\n      <td>f</td>\n      <td>g</td>\n      <td>43.0</td>\n      <td>560</td>\n      <td>+</td>\n    </tr>\n    <tr>\n      <th>2</th>\n      <td>a</td>\n      <td>medium</td>\n      <td>0.500</td>\n      <td>u</td>\n      <td>g</td>\n      <td>q</td>\n      <td>h</td>\n      <td>1.50</td>\n      <td>t</td>\n      <td>f</td>\n      <td>0</td>\n      <td>f</td>\n      <td>g</td>\n      <td>280.0</td>\n      <td>824</td>\n      <td>+</td>\n    </tr>\n    <tr>\n      <th>3</th>\n      <td>b</td>\n      <td>medium</td>\n      <td>1.540</td>\n      <td>u</td>\n      <td>g</td>\n      <td>w</td>\n      <td>v</td>\n      <td>3.75</td>\n      <td>t</td>\n      <td>t</td>\n      <td>5</td>\n      <td>t</td>\n      <td>g</td>\n      <td>100.0</td>\n      <td>3</td>\n      <td>+</td>\n    </tr>\n    <tr>\n      <th>4</th>\n      <td>b</td>\n      <td>low</td>\n      <td>5.625</td>\n      <td>u</td>\n      <td>g</td>\n      <td>w</td>\n      <td>v</td>\n      <td>1.71</td>\n      <td>t</td>\n      <td>f</td>\n      <td>0</td>\n      <td>f</td>\n      <td>s</td>\n      <td>120.0</td>\n      <td>0</td>\n      <td>+</td>\n    </tr>\n  </tbody>\n</table>\n</div>",
            "text/plain": "  A1      A2     A3 A4 A5 A6 A7    A8 A9 A10  A11 A12 A13    A14  A15 A16\n0  b  medium  0.000  u  g  w  v  1.25  t   t    1   f   g  202.0    0   +\n1  a    high  4.460  u  g  q  h  3.04  t   t    6   f   g   43.0  560   +\n2  a  medium  0.500  u  g  q  h  1.50  t   f    0   f   g  280.0  824   +\n3  b  medium  1.540  u  g  w  v  3.75  t   t    5   t   g  100.0    3   +\n4  b     low  5.625  u  g  w  v  1.71  t   f    0   f   s  120.0    0   +"
          },
          "execution_count": 12,
          "metadata": {},
          "output_type": "execute_result"
        }
      ]
    },
    {
      "metadata": {
        "trusted": false
      },
      "cell_type": "code",
      "source": "uci_df2['A2'].value_counts()\n",
      "execution_count": 13,
      "outputs": [
        {
          "data": {
            "text/plain": "medium    231\nlow       230\nhigh      229\nName: A2, dtype: int64"
          },
          "execution_count": 13,
          "metadata": {},
          "output_type": "execute_result"
        }
      ]
    },
    {
      "metadata": {
        "trusted": false
      },
      "cell_type": "code",
      "source": "## onehot encoding\nencod_int = {'low': 0, 'medium': 1, 'high': 2}\nuci_dfint = uci_df2.copy()\n\nuci_dfint['A2'] = uci_dfint['A2'].replace(encod_int)\n\nuci_dfint.head()",
      "execution_count": 14,
      "outputs": [
        {
          "data": {
            "text/html": "<div>\n<style>\n    .dataframe tbody tr th:only-of-type {\n        vertical-align: middle;\n    }\n\n    .dataframe tbody tr th {\n        vertical-align: top;\n    }\n\n    .dataframe thead th {\n        text-align: right;\n    }\n</style>\n<table class=\"dataframe\">\n  <thead>\n    <tr style=\"text-align: right;\">\n      <th></th>\n      <th>A1</th>\n      <th>A2</th>\n      <th>A3</th>\n      <th>A4</th>\n      <th>A5</th>\n      <th>A6</th>\n      <th>A7</th>\n      <th>A8</th>\n      <th>A9</th>\n      <th>A10</th>\n      <th>A11</th>\n      <th>A12</th>\n      <th>A13</th>\n      <th>A14</th>\n      <th>A15</th>\n      <th>A16</th>\n    </tr>\n  </thead>\n  <tbody>\n    <tr>\n      <th>0</th>\n      <td>b</td>\n      <td>1</td>\n      <td>0.000</td>\n      <td>u</td>\n      <td>g</td>\n      <td>w</td>\n      <td>v</td>\n      <td>1.25</td>\n      <td>t</td>\n      <td>t</td>\n      <td>1</td>\n      <td>f</td>\n      <td>g</td>\n      <td>202.0</td>\n      <td>0</td>\n      <td>+</td>\n    </tr>\n    <tr>\n      <th>1</th>\n      <td>a</td>\n      <td>2</td>\n      <td>4.460</td>\n      <td>u</td>\n      <td>g</td>\n      <td>q</td>\n      <td>h</td>\n      <td>3.04</td>\n      <td>t</td>\n      <td>t</td>\n      <td>6</td>\n      <td>f</td>\n      <td>g</td>\n      <td>43.0</td>\n      <td>560</td>\n      <td>+</td>\n    </tr>\n    <tr>\n      <th>2</th>\n      <td>a</td>\n      <td>1</td>\n      <td>0.500</td>\n      <td>u</td>\n      <td>g</td>\n      <td>q</td>\n      <td>h</td>\n      <td>1.50</td>\n      <td>t</td>\n      <td>f</td>\n      <td>0</td>\n      <td>f</td>\n      <td>g</td>\n      <td>280.0</td>\n      <td>824</td>\n      <td>+</td>\n    </tr>\n    <tr>\n      <th>3</th>\n      <td>b</td>\n      <td>1</td>\n      <td>1.540</td>\n      <td>u</td>\n      <td>g</td>\n      <td>w</td>\n      <td>v</td>\n      <td>3.75</td>\n      <td>t</td>\n      <td>t</td>\n      <td>5</td>\n      <td>t</td>\n      <td>g</td>\n      <td>100.0</td>\n      <td>3</td>\n      <td>+</td>\n    </tr>\n    <tr>\n      <th>4</th>\n      <td>b</td>\n      <td>0</td>\n      <td>5.625</td>\n      <td>u</td>\n      <td>g</td>\n      <td>w</td>\n      <td>v</td>\n      <td>1.71</td>\n      <td>t</td>\n      <td>f</td>\n      <td>0</td>\n      <td>f</td>\n      <td>s</td>\n      <td>120.0</td>\n      <td>0</td>\n      <td>+</td>\n    </tr>\n  </tbody>\n</table>\n</div>",
            "text/plain": "  A1  A2     A3 A4 A5 A6 A7    A8 A9 A10  A11 A12 A13    A14  A15 A16\n0  b   1  0.000  u  g  w  v  1.25  t   t    1   f   g  202.0    0   +\n1  a   2  4.460  u  g  q  h  3.04  t   t    6   f   g   43.0  560   +\n2  a   1  0.500  u  g  q  h  1.50  t   f    0   f   g  280.0  824   +\n3  b   1  1.540  u  g  w  v  3.75  t   t    5   t   g  100.0    3   +\n4  b   0  5.625  u  g  w  v  1.71  t   f    0   f   s  120.0    0   +"
          },
          "execution_count": 14,
          "metadata": {},
          "output_type": "execute_result"
        }
      ]
    },
    {
      "metadata": {
        "trusted": false
      },
      "cell_type": "code",
      "source": "uci_cols = uci_dfint.columns[uci_dfint.dtypes == np.object].tolist()\nuci_cols",
      "execution_count": 15,
      "outputs": [
        {
          "data": {
            "text/plain": "['A1', 'A4', 'A5', 'A6', 'A7', 'A9', 'A10', 'A12', 'A13', 'A16']"
          },
          "execution_count": 15,
          "metadata": {},
          "output_type": "execute_result"
        }
      ]
    },
    {
      "metadata": {
        "trusted": false
      },
      "cell_type": "code",
      "source": "## Variable conversion to float for  normalization\nuci_encod = uci_dfint.copy()\n\nfor col in uci_cols:\n    q = len(uci_encod[col].unique())\n    if (q == 2):\n        uci_encod[col] = pd.get_dummies(uci_encod[col], drop_first=True)\n        \nuci_encod = pd.get_dummies(uci_encod)\n\nuci_encod.sample(n=4, random_state=11)",
      "execution_count": 16,
      "outputs": [
        {
          "data": {
            "text/html": "<div>\n<style>\n    .dataframe tbody tr th:only-of-type {\n        vertical-align: middle;\n    }\n\n    .dataframe tbody tr th {\n        vertical-align: top;\n    }\n\n    .dataframe thead th {\n        text-align: right;\n    }\n</style>\n<table class=\"dataframe\">\n  <thead>\n    <tr style=\"text-align: right;\">\n      <th></th>\n      <th>A1</th>\n      <th>A2</th>\n      <th>A3</th>\n      <th>A8</th>\n      <th>A9</th>\n      <th>A10</th>\n      <th>A11</th>\n      <th>A12</th>\n      <th>A14</th>\n      <th>A15</th>\n      <th>...</th>\n      <th>A7_ff</th>\n      <th>A7_h</th>\n      <th>A7_j</th>\n      <th>A7_n</th>\n      <th>A7_o</th>\n      <th>A7_v</th>\n      <th>A7_z</th>\n      <th>A13_g</th>\n      <th>A13_p</th>\n      <th>A13_s</th>\n    </tr>\n  </thead>\n  <tbody>\n    <tr>\n      <th>214</th>\n      <td>1</td>\n      <td>1</td>\n      <td>2.710</td>\n      <td>5.25</td>\n      <td>1</td>\n      <td>1</td>\n      <td>1</td>\n      <td>0</td>\n      <td>211.0</td>\n      <td>0</td>\n      <td>...</td>\n      <td>0</td>\n      <td>0</td>\n      <td>0</td>\n      <td>0</td>\n      <td>0</td>\n      <td>1</td>\n      <td>0</td>\n      <td>1</td>\n      <td>0</td>\n      <td>0</td>\n    </tr>\n    <tr>\n      <th>545</th>\n      <td>1</td>\n      <td>2</td>\n      <td>11.000</td>\n      <td>1.50</td>\n      <td>1</td>\n      <td>0</td>\n      <td>0</td>\n      <td>0</td>\n      <td>0.0</td>\n      <td>0</td>\n      <td>...</td>\n      <td>0</td>\n      <td>0</td>\n      <td>0</td>\n      <td>0</td>\n      <td>0</td>\n      <td>1</td>\n      <td>0</td>\n      <td>0</td>\n      <td>0</td>\n      <td>1</td>\n    </tr>\n    <tr>\n      <th>436</th>\n      <td>1</td>\n      <td>0</td>\n      <td>0.585</td>\n      <td>0.00</td>\n      <td>0</td>\n      <td>1</td>\n      <td>3</td>\n      <td>0</td>\n      <td>350.0</td>\n      <td>769</td>\n      <td>...</td>\n      <td>1</td>\n      <td>0</td>\n      <td>0</td>\n      <td>0</td>\n      <td>0</td>\n      <td>0</td>\n      <td>0</td>\n      <td>1</td>\n      <td>0</td>\n      <td>0</td>\n    </tr>\n    <tr>\n      <th>201</th>\n      <td>0</td>\n      <td>2</td>\n      <td>1.000</td>\n      <td>2.25</td>\n      <td>1</td>\n      <td>0</td>\n      <td>0</td>\n      <td>1</td>\n      <td>0.0</td>\n      <td>300</td>\n      <td>...</td>\n      <td>0</td>\n      <td>0</td>\n      <td>0</td>\n      <td>0</td>\n      <td>0</td>\n      <td>0</td>\n      <td>0</td>\n      <td>1</td>\n      <td>0</td>\n      <td>0</td>\n    </tr>\n  </tbody>\n</table>\n<p>4 rows × 43 columns</p>\n</div>",
            "text/plain": "     A1  A2      A3    A8  A9  A10  A11  A12    A14  A15  ...    A7_ff  A7_h  \\\n214   1   1   2.710  5.25   1    1    1    0  211.0    0  ...        0     0   \n545   1   2  11.000  1.50   1    0    0    0    0.0    0  ...        0     0   \n436   1   0   0.585  0.00   0    1    3    0  350.0  769  ...        1     0   \n201   0   2   1.000  2.25   1    0    0    1    0.0  300  ...        0     0   \n\n     A7_j  A7_n  A7_o  A7_v  A7_z  A13_g  A13_p  A13_s  \n214     0     0     0     1     0      1      0      0  \n545     0     0     0     1     0      0      0      1  \n436     0     0     0     0     0      1      0      0  \n201     0     0     0     0     0      1      0      0  \n\n[4 rows x 43 columns]"
          },
          "execution_count": 16,
          "metadata": {},
          "output_type": "execute_result"
        }
      ]
    },
    {
      "metadata": {},
      "cell_type": "markdown",
      "source": "# # Normalization"
    },
    {
      "metadata": {
        "trusted": false
      },
      "cell_type": "code",
      "source": "## Normalization\nfrom sklearn import preprocessing\n\nData_scaler = preprocessing.StandardScaler()\n\nuci_standard = Data_scaler.fit_transform(uci_encod)",
      "execution_count": 17,
      "outputs": [
        {
          "name": "stderr",
          "output_type": "stream",
          "text": "/home/nbuser/anaconda3_501/lib/python3.6/site-packages/sklearn/preprocessing/data.py:645: DataConversionWarning: Data with input dtype uint8, int64, float64 were all converted to float64 by StandardScaler.\n  return self.partial_fit(X, y)\n/home/nbuser/anaconda3_501/lib/python3.6/site-packages/sklearn/base.py:464: DataConversionWarning: Data with input dtype uint8, int64, float64 were all converted to float64 by StandardScaler.\n  return self.fit(X, **fit_params).transform(X)\n"
        }
      ]
    },
    {
      "metadata": {
        "trusted": false
      },
      "cell_type": "code",
      "source": "uci_standard_df = pd.DataFrame(uci_standard, \n                                    columns=uci_encod.columns)\n\nuci_standard_df.sample(n=4, random_state=11)",
      "execution_count": 18,
      "outputs": [
        {
          "data": {
            "text/html": "<div>\n<style>\n    .dataframe tbody tr th:only-of-type {\n        vertical-align: middle;\n    }\n\n    .dataframe tbody tr th {\n        vertical-align: top;\n    }\n\n    .dataframe thead th {\n        text-align: right;\n    }\n</style>\n<table class=\"dataframe\">\n  <thead>\n    <tr style=\"text-align: right;\">\n      <th></th>\n      <th>A1</th>\n      <th>A2</th>\n      <th>A3</th>\n      <th>A8</th>\n      <th>A9</th>\n      <th>A10</th>\n      <th>A11</th>\n      <th>A12</th>\n      <th>A14</th>\n      <th>A15</th>\n      <th>...</th>\n      <th>A7_ff</th>\n      <th>A7_h</th>\n      <th>A7_j</th>\n      <th>A7_n</th>\n      <th>A7_o</th>\n      <th>A7_v</th>\n      <th>A7_z</th>\n      <th>A13_g</th>\n      <th>A13_p</th>\n      <th>A13_s</th>\n    </tr>\n  </thead>\n  <tbody>\n    <tr>\n      <th>214</th>\n      <td>0.661438</td>\n      <td>0.001777</td>\n      <td>-0.411841</td>\n      <td>0.905058</td>\n      <td>0.954650</td>\n      <td>1.157144</td>\n      <td>-0.288101</td>\n      <td>-0.919195</td>\n      <td>0.159461</td>\n      <td>-0.195413</td>\n      <td>...</td>\n      <td>-0.300079</td>\n      <td>-0.5</td>\n      <td>-0.108306</td>\n      <td>-0.07636</td>\n      <td>-0.053916</td>\n      <td>0.831370</td>\n      <td>-0.108306</td>\n      <td>0.322490</td>\n      <td>-0.108306</td>\n      <td>-0.300079</td>\n    </tr>\n    <tr>\n      <th>545</th>\n      <td>0.661438</td>\n      <td>1.227857</td>\n      <td>1.254640</td>\n      <td>-0.216324</td>\n      <td>0.954650</td>\n      <td>-0.864196</td>\n      <td>-0.493887</td>\n      <td>-0.919195</td>\n      <td>-1.066817</td>\n      <td>-0.195413</td>\n      <td>...</td>\n      <td>-0.300079</td>\n      <td>-0.5</td>\n      <td>-0.108306</td>\n      <td>-0.07636</td>\n      <td>-0.053916</td>\n      <td>0.831370</td>\n      <td>-0.108306</td>\n      <td>-3.100868</td>\n      <td>-0.108306</td>\n      <td>3.332456</td>\n    </tr>\n    <tr>\n      <th>436</th>\n      <td>0.661438</td>\n      <td>-1.224303</td>\n      <td>-0.839015</td>\n      <td>-0.664877</td>\n      <td>-1.047504</td>\n      <td>1.157144</td>\n      <td>0.123472</td>\n      <td>-0.919195</td>\n      <td>0.967293</td>\n      <td>-0.047708</td>\n      <td>...</td>\n      <td>3.332456</td>\n      <td>-0.5</td>\n      <td>-0.108306</td>\n      <td>-0.07636</td>\n      <td>-0.053916</td>\n      <td>-1.202834</td>\n      <td>-0.108306</td>\n      <td>0.322490</td>\n      <td>-0.108306</td>\n      <td>-0.300079</td>\n    </tr>\n    <tr>\n      <th>201</th>\n      <td>-1.511858</td>\n      <td>1.227857</td>\n      <td>-0.755590</td>\n      <td>0.007953</td>\n      <td>0.954650</td>\n      <td>-0.864196</td>\n      <td>-0.493887</td>\n      <td>1.087908</td>\n      <td>-1.066817</td>\n      <td>-0.137791</td>\n      <td>...</td>\n      <td>-0.300079</td>\n      <td>-0.5</td>\n      <td>-0.108306</td>\n      <td>-0.07636</td>\n      <td>-0.053916</td>\n      <td>-1.202834</td>\n      <td>-0.108306</td>\n      <td>0.322490</td>\n      <td>-0.108306</td>\n      <td>-0.300079</td>\n    </tr>\n  </tbody>\n</table>\n<p>4 rows × 43 columns</p>\n</div>",
            "text/plain": "           A1        A2        A3        A8        A9       A10       A11  \\\n214  0.661438  0.001777 -0.411841  0.905058  0.954650  1.157144 -0.288101   \n545  0.661438  1.227857  1.254640 -0.216324  0.954650 -0.864196 -0.493887   \n436  0.661438 -1.224303 -0.839015 -0.664877 -1.047504  1.157144  0.123472   \n201 -1.511858  1.227857 -0.755590  0.007953  0.954650 -0.864196 -0.493887   \n\n          A12       A14       A15    ...        A7_ff  A7_h      A7_j  \\\n214 -0.919195  0.159461 -0.195413    ...    -0.300079  -0.5 -0.108306   \n545 -0.919195 -1.066817 -0.195413    ...    -0.300079  -0.5 -0.108306   \n436 -0.919195  0.967293 -0.047708    ...     3.332456  -0.5 -0.108306   \n201  1.087908 -1.066817 -0.137791    ...    -0.300079  -0.5 -0.108306   \n\n        A7_n      A7_o      A7_v      A7_z     A13_g     A13_p     A13_s  \n214 -0.07636 -0.053916  0.831370 -0.108306  0.322490 -0.108306 -0.300079  \n545 -0.07636 -0.053916  0.831370 -0.108306 -3.100868 -0.108306  3.332456  \n436 -0.07636 -0.053916 -1.202834 -0.108306  0.322490 -0.108306 -0.300079  \n201 -0.07636 -0.053916 -1.202834 -0.108306  0.322490 -0.108306 -0.300079  \n\n[4 rows x 43 columns]"
          },
          "execution_count": 18,
          "metadata": {},
          "output_type": "execute_result"
        }
      ]
    },
    {
      "metadata": {
        "trusted": false
      },
      "cell_type": "code",
      "source": "## changing name for last feature\ndf_clean = uci_standard_df.rename(columns = {'A16':'Target'})\ndf_clean.sample(n=4, random_state=11)",
      "execution_count": 19,
      "outputs": [
        {
          "data": {
            "text/html": "<div>\n<style>\n    .dataframe tbody tr th:only-of-type {\n        vertical-align: middle;\n    }\n\n    .dataframe tbody tr th {\n        vertical-align: top;\n    }\n\n    .dataframe thead th {\n        text-align: right;\n    }\n</style>\n<table class=\"dataframe\">\n  <thead>\n    <tr style=\"text-align: right;\">\n      <th></th>\n      <th>A1</th>\n      <th>A2</th>\n      <th>A3</th>\n      <th>A8</th>\n      <th>A9</th>\n      <th>A10</th>\n      <th>A11</th>\n      <th>A12</th>\n      <th>A14</th>\n      <th>A15</th>\n      <th>...</th>\n      <th>A7_ff</th>\n      <th>A7_h</th>\n      <th>A7_j</th>\n      <th>A7_n</th>\n      <th>A7_o</th>\n      <th>A7_v</th>\n      <th>A7_z</th>\n      <th>A13_g</th>\n      <th>A13_p</th>\n      <th>A13_s</th>\n    </tr>\n  </thead>\n  <tbody>\n    <tr>\n      <th>214</th>\n      <td>0.661438</td>\n      <td>0.001777</td>\n      <td>-0.411841</td>\n      <td>0.905058</td>\n      <td>0.954650</td>\n      <td>1.157144</td>\n      <td>-0.288101</td>\n      <td>-0.919195</td>\n      <td>0.159461</td>\n      <td>-0.195413</td>\n      <td>...</td>\n      <td>-0.300079</td>\n      <td>-0.5</td>\n      <td>-0.108306</td>\n      <td>-0.07636</td>\n      <td>-0.053916</td>\n      <td>0.831370</td>\n      <td>-0.108306</td>\n      <td>0.322490</td>\n      <td>-0.108306</td>\n      <td>-0.300079</td>\n    </tr>\n    <tr>\n      <th>545</th>\n      <td>0.661438</td>\n      <td>1.227857</td>\n      <td>1.254640</td>\n      <td>-0.216324</td>\n      <td>0.954650</td>\n      <td>-0.864196</td>\n      <td>-0.493887</td>\n      <td>-0.919195</td>\n      <td>-1.066817</td>\n      <td>-0.195413</td>\n      <td>...</td>\n      <td>-0.300079</td>\n      <td>-0.5</td>\n      <td>-0.108306</td>\n      <td>-0.07636</td>\n      <td>-0.053916</td>\n      <td>0.831370</td>\n      <td>-0.108306</td>\n      <td>-3.100868</td>\n      <td>-0.108306</td>\n      <td>3.332456</td>\n    </tr>\n    <tr>\n      <th>436</th>\n      <td>0.661438</td>\n      <td>-1.224303</td>\n      <td>-0.839015</td>\n      <td>-0.664877</td>\n      <td>-1.047504</td>\n      <td>1.157144</td>\n      <td>0.123472</td>\n      <td>-0.919195</td>\n      <td>0.967293</td>\n      <td>-0.047708</td>\n      <td>...</td>\n      <td>3.332456</td>\n      <td>-0.5</td>\n      <td>-0.108306</td>\n      <td>-0.07636</td>\n      <td>-0.053916</td>\n      <td>-1.202834</td>\n      <td>-0.108306</td>\n      <td>0.322490</td>\n      <td>-0.108306</td>\n      <td>-0.300079</td>\n    </tr>\n    <tr>\n      <th>201</th>\n      <td>-1.511858</td>\n      <td>1.227857</td>\n      <td>-0.755590</td>\n      <td>0.007953</td>\n      <td>0.954650</td>\n      <td>-0.864196</td>\n      <td>-0.493887</td>\n      <td>1.087908</td>\n      <td>-1.066817</td>\n      <td>-0.137791</td>\n      <td>...</td>\n      <td>-0.300079</td>\n      <td>-0.5</td>\n      <td>-0.108306</td>\n      <td>-0.07636</td>\n      <td>-0.053916</td>\n      <td>-1.202834</td>\n      <td>-0.108306</td>\n      <td>0.322490</td>\n      <td>-0.108306</td>\n      <td>-0.300079</td>\n    </tr>\n  </tbody>\n</table>\n<p>4 rows × 43 columns</p>\n</div>",
            "text/plain": "           A1        A2        A3        A8        A9       A10       A11  \\\n214  0.661438  0.001777 -0.411841  0.905058  0.954650  1.157144 -0.288101   \n545  0.661438  1.227857  1.254640 -0.216324  0.954650 -0.864196 -0.493887   \n436  0.661438 -1.224303 -0.839015 -0.664877 -1.047504  1.157144  0.123472   \n201 -1.511858  1.227857 -0.755590  0.007953  0.954650 -0.864196 -0.493887   \n\n          A12       A14       A15    ...        A7_ff  A7_h      A7_j  \\\n214 -0.919195  0.159461 -0.195413    ...    -0.300079  -0.5 -0.108306   \n545 -0.919195 -1.066817 -0.195413    ...    -0.300079  -0.5 -0.108306   \n436 -0.919195  0.967293 -0.047708    ...     3.332456  -0.5 -0.108306   \n201  1.087908 -1.066817 -0.137791    ...    -0.300079  -0.5 -0.108306   \n\n        A7_n      A7_o      A7_v      A7_z     A13_g     A13_p     A13_s  \n214 -0.07636 -0.053916  0.831370 -0.108306  0.322490 -0.108306 -0.300079  \n545 -0.07636 -0.053916  0.831370 -0.108306 -3.100868 -0.108306  3.332456  \n436 -0.07636 -0.053916 -1.202834 -0.108306  0.322490 -0.108306 -0.300079  \n201 -0.07636 -0.053916 -1.202834 -0.108306  0.322490 -0.108306 -0.300079  \n\n[4 rows x 43 columns]"
          },
          "execution_count": 19,
          "metadata": {},
          "output_type": "execute_result"
        }
      ]
    },
    {
      "metadata": {
        "trusted": false
      },
      "cell_type": "code",
      "source": "df_clean.shape\n",
      "execution_count": 20,
      "outputs": [
        {
          "data": {
            "text/plain": "(690, 43)"
          },
          "execution_count": 20,
          "metadata": {},
          "output_type": "execute_result"
        }
      ]
    },
    {
      "metadata": {
        "trusted": false
      },
      "cell_type": "code",
      "source": "df_clean.describe(include='all').round(3) \n",
      "execution_count": 21,
      "outputs": [
        {
          "data": {
            "text/html": "<div>\n<style>\n    .dataframe tbody tr th:only-of-type {\n        vertical-align: middle;\n    }\n\n    .dataframe tbody tr th {\n        vertical-align: top;\n    }\n\n    .dataframe thead th {\n        text-align: right;\n    }\n</style>\n<table class=\"dataframe\">\n  <thead>\n    <tr style=\"text-align: right;\">\n      <th></th>\n      <th>A1</th>\n      <th>A2</th>\n      <th>A3</th>\n      <th>A8</th>\n      <th>A9</th>\n      <th>A10</th>\n      <th>A11</th>\n      <th>A12</th>\n      <th>A14</th>\n      <th>A15</th>\n      <th>...</th>\n      <th>A7_ff</th>\n      <th>A7_h</th>\n      <th>A7_j</th>\n      <th>A7_n</th>\n      <th>A7_o</th>\n      <th>A7_v</th>\n      <th>A7_z</th>\n      <th>A13_g</th>\n      <th>A13_p</th>\n      <th>A13_s</th>\n    </tr>\n  </thead>\n  <tbody>\n    <tr>\n      <th>count</th>\n      <td>690.000</td>\n      <td>690.000</td>\n      <td>690.000</td>\n      <td>690.000</td>\n      <td>690.000</td>\n      <td>690.000</td>\n      <td>690.000</td>\n      <td>690.000</td>\n      <td>690.000</td>\n      <td>690.000</td>\n      <td>...</td>\n      <td>690.000</td>\n      <td>690.000</td>\n      <td>690.000</td>\n      <td>690.000</td>\n      <td>690.000</td>\n      <td>690.000</td>\n      <td>690.000</td>\n      <td>690.000</td>\n      <td>690.000</td>\n      <td>690.000</td>\n    </tr>\n    <tr>\n      <th>mean</th>\n      <td>0.000</td>\n      <td>-0.000</td>\n      <td>0.000</td>\n      <td>0.000</td>\n      <td>0.000</td>\n      <td>-0.000</td>\n      <td>0.000</td>\n      <td>-0.000</td>\n      <td>0.000</td>\n      <td>-0.000</td>\n      <td>...</td>\n      <td>0.000</td>\n      <td>0.000</td>\n      <td>0.000</td>\n      <td>-0.000</td>\n      <td>-0.000</td>\n      <td>-0.000</td>\n      <td>-0.000</td>\n      <td>0.000</td>\n      <td>-0.000</td>\n      <td>-0.000</td>\n    </tr>\n    <tr>\n      <th>std</th>\n      <td>1.001</td>\n      <td>1.001</td>\n      <td>1.001</td>\n      <td>1.001</td>\n      <td>1.001</td>\n      <td>1.001</td>\n      <td>1.001</td>\n      <td>1.001</td>\n      <td>1.001</td>\n      <td>1.001</td>\n      <td>...</td>\n      <td>1.001</td>\n      <td>1.001</td>\n      <td>1.001</td>\n      <td>1.001</td>\n      <td>1.001</td>\n      <td>1.001</td>\n      <td>1.001</td>\n      <td>1.001</td>\n      <td>1.001</td>\n      <td>1.001</td>\n    </tr>\n    <tr>\n      <th>min</th>\n      <td>-1.512</td>\n      <td>-1.224</td>\n      <td>-0.957</td>\n      <td>-0.665</td>\n      <td>-1.048</td>\n      <td>-0.864</td>\n      <td>-0.494</td>\n      <td>-0.919</td>\n      <td>-1.067</td>\n      <td>-0.195</td>\n      <td>...</td>\n      <td>-0.300</td>\n      <td>-0.500</td>\n      <td>-0.108</td>\n      <td>-0.076</td>\n      <td>-0.054</td>\n      <td>-1.203</td>\n      <td>-0.108</td>\n      <td>-3.101</td>\n      <td>-0.108</td>\n      <td>-0.300</td>\n    </tr>\n    <tr>\n      <th>25%</th>\n      <td>-1.512</td>\n      <td>-1.224</td>\n      <td>-0.756</td>\n      <td>-0.616</td>\n      <td>-1.048</td>\n      <td>-0.864</td>\n      <td>-0.494</td>\n      <td>-0.919</td>\n      <td>-0.602</td>\n      <td>-0.195</td>\n      <td>...</td>\n      <td>-0.300</td>\n      <td>-0.500</td>\n      <td>-0.108</td>\n      <td>-0.076</td>\n      <td>-0.054</td>\n      <td>-1.203</td>\n      <td>-0.108</td>\n      <td>0.322</td>\n      <td>-0.108</td>\n      <td>-0.300</td>\n    </tr>\n    <tr>\n      <th>50%</th>\n      <td>0.661</td>\n      <td>0.002</td>\n      <td>-0.404</td>\n      <td>-0.366</td>\n      <td>0.955</td>\n      <td>-0.864</td>\n      <td>-0.494</td>\n      <td>-0.919</td>\n      <td>-0.137</td>\n      <td>-0.194</td>\n      <td>...</td>\n      <td>-0.300</td>\n      <td>-0.500</td>\n      <td>-0.108</td>\n      <td>-0.076</td>\n      <td>-0.054</td>\n      <td>0.831</td>\n      <td>-0.108</td>\n      <td>0.322</td>\n      <td>-0.108</td>\n      <td>-0.300</td>\n    </tr>\n    <tr>\n      <th>75%</th>\n      <td>0.661</td>\n      <td>1.228</td>\n      <td>0.492</td>\n      <td>0.120</td>\n      <td>0.955</td>\n      <td>1.157</td>\n      <td>0.123</td>\n      <td>1.088</td>\n      <td>0.514</td>\n      <td>-0.119</td>\n      <td>...</td>\n      <td>-0.300</td>\n      <td>-0.500</td>\n      <td>-0.108</td>\n      <td>-0.076</td>\n      <td>-0.054</td>\n      <td>0.831</td>\n      <td>-0.108</td>\n      <td>0.322</td>\n      <td>-0.108</td>\n      <td>-0.300</td>\n    </tr>\n    <tr>\n      <th>max</th>\n      <td>0.661</td>\n      <td>1.228</td>\n      <td>4.672</td>\n      <td>7.858</td>\n      <td>0.955</td>\n      <td>1.157</td>\n      <td>13.294</td>\n      <td>1.088</td>\n      <td>10.557</td>\n      <td>19.012</td>\n      <td>...</td>\n      <td>3.332</td>\n      <td>2.000</td>\n      <td>9.233</td>\n      <td>13.096</td>\n      <td>18.547</td>\n      <td>0.831</td>\n      <td>9.233</td>\n      <td>0.322</td>\n      <td>9.233</td>\n      <td>3.332</td>\n    </tr>\n  </tbody>\n</table>\n<p>8 rows × 43 columns</p>\n</div>",
            "text/plain": "            A1       A2       A3       A8       A9      A10      A11      A12  \\\ncount  690.000  690.000  690.000  690.000  690.000  690.000  690.000  690.000   \nmean     0.000   -0.000    0.000    0.000    0.000   -0.000    0.000   -0.000   \nstd      1.001    1.001    1.001    1.001    1.001    1.001    1.001    1.001   \nmin     -1.512   -1.224   -0.957   -0.665   -1.048   -0.864   -0.494   -0.919   \n25%     -1.512   -1.224   -0.756   -0.616   -1.048   -0.864   -0.494   -0.919   \n50%      0.661    0.002   -0.404   -0.366    0.955   -0.864   -0.494   -0.919   \n75%      0.661    1.228    0.492    0.120    0.955    1.157    0.123    1.088   \nmax      0.661    1.228    4.672    7.858    0.955    1.157   13.294    1.088   \n\n           A14      A15   ...       A7_ff     A7_h     A7_j     A7_n     A7_o  \\\ncount  690.000  690.000   ...     690.000  690.000  690.000  690.000  690.000   \nmean     0.000   -0.000   ...       0.000    0.000    0.000   -0.000   -0.000   \nstd      1.001    1.001   ...       1.001    1.001    1.001    1.001    1.001   \nmin     -1.067   -0.195   ...      -0.300   -0.500   -0.108   -0.076   -0.054   \n25%     -0.602   -0.195   ...      -0.300   -0.500   -0.108   -0.076   -0.054   \n50%     -0.137   -0.194   ...      -0.300   -0.500   -0.108   -0.076   -0.054   \n75%      0.514   -0.119   ...      -0.300   -0.500   -0.108   -0.076   -0.054   \nmax     10.557   19.012   ...       3.332    2.000    9.233   13.096   18.547   \n\n          A7_v     A7_z    A13_g    A13_p    A13_s  \ncount  690.000  690.000  690.000  690.000  690.000  \nmean    -0.000   -0.000    0.000   -0.000   -0.000  \nstd      1.001    1.001    1.001    1.001    1.001  \nmin     -1.203   -0.108   -3.101   -0.108   -0.300  \n25%     -1.203   -0.108    0.322   -0.108   -0.300  \n50%      0.831   -0.108    0.322   -0.108   -0.300  \n75%      0.831   -0.108    0.322   -0.108   -0.300  \nmax      0.831    9.233    0.322    9.233    3.332  \n\n[8 rows x 43 columns]"
          },
          "execution_count": 21,
          "metadata": {},
          "output_type": "execute_result"
        }
      ]
    },
    {
      "metadata": {
        "trusted": false
      },
      "cell_type": "code",
      "source": "df_clean.head()",
      "execution_count": 22,
      "outputs": [
        {
          "data": {
            "text/html": "<div>\n<style>\n    .dataframe tbody tr th:only-of-type {\n        vertical-align: middle;\n    }\n\n    .dataframe tbody tr th {\n        vertical-align: top;\n    }\n\n    .dataframe thead th {\n        text-align: right;\n    }\n</style>\n<table class=\"dataframe\">\n  <thead>\n    <tr style=\"text-align: right;\">\n      <th></th>\n      <th>A1</th>\n      <th>A2</th>\n      <th>A3</th>\n      <th>A8</th>\n      <th>A9</th>\n      <th>A10</th>\n      <th>A11</th>\n      <th>A12</th>\n      <th>A14</th>\n      <th>A15</th>\n      <th>...</th>\n      <th>A7_ff</th>\n      <th>A7_h</th>\n      <th>A7_j</th>\n      <th>A7_n</th>\n      <th>A7_o</th>\n      <th>A7_v</th>\n      <th>A7_z</th>\n      <th>A13_g</th>\n      <th>A13_p</th>\n      <th>A13_s</th>\n    </tr>\n  </thead>\n  <tbody>\n    <tr>\n      <th>0</th>\n      <td>0.661438</td>\n      <td>0.001777</td>\n      <td>-0.956613</td>\n      <td>-0.291083</td>\n      <td>0.95465</td>\n      <td>1.157144</td>\n      <td>-0.288101</td>\n      <td>-0.919195</td>\n      <td>0.107155</td>\n      <td>-0.195413</td>\n      <td>...</td>\n      <td>-0.300079</td>\n      <td>-0.5</td>\n      <td>-0.108306</td>\n      <td>-0.07636</td>\n      <td>-0.053916</td>\n      <td>0.831370</td>\n      <td>-0.108306</td>\n      <td>0.322490</td>\n      <td>-0.108306</td>\n      <td>-0.300079</td>\n    </tr>\n    <tr>\n      <th>1</th>\n      <td>-1.511858</td>\n      <td>1.227857</td>\n      <td>-0.060051</td>\n      <td>0.244190</td>\n      <td>0.95465</td>\n      <td>1.157144</td>\n      <td>0.740830</td>\n      <td>-0.919195</td>\n      <td>-0.816912</td>\n      <td>-0.087852</td>\n      <td>...</td>\n      <td>-0.300079</td>\n      <td>2.0</td>\n      <td>-0.108306</td>\n      <td>-0.07636</td>\n      <td>-0.053916</td>\n      <td>-1.202834</td>\n      <td>-0.108306</td>\n      <td>0.322490</td>\n      <td>-0.108306</td>\n      <td>-0.300079</td>\n    </tr>\n    <tr>\n      <th>2</th>\n      <td>-1.511858</td>\n      <td>0.001777</td>\n      <td>-0.856102</td>\n      <td>-0.216324</td>\n      <td>0.95465</td>\n      <td>-0.864196</td>\n      <td>-0.493887</td>\n      <td>-0.919195</td>\n      <td>0.560471</td>\n      <td>-0.037144</td>\n      <td>...</td>\n      <td>-0.300079</td>\n      <td>2.0</td>\n      <td>-0.108306</td>\n      <td>-0.07636</td>\n      <td>-0.053916</td>\n      <td>-1.202834</td>\n      <td>-0.108306</td>\n      <td>0.322490</td>\n      <td>-0.108306</td>\n      <td>-0.300079</td>\n    </tr>\n    <tr>\n      <th>3</th>\n      <td>0.661438</td>\n      <td>0.001777</td>\n      <td>-0.647038</td>\n      <td>0.456505</td>\n      <td>0.95465</td>\n      <td>1.157144</td>\n      <td>0.535044</td>\n      <td>1.087908</td>\n      <td>-0.485643</td>\n      <td>-0.194837</td>\n      <td>...</td>\n      <td>-0.300079</td>\n      <td>-0.5</td>\n      <td>-0.108306</td>\n      <td>-0.07636</td>\n      <td>-0.053916</td>\n      <td>0.831370</td>\n      <td>-0.108306</td>\n      <td>0.322490</td>\n      <td>-0.108306</td>\n      <td>-0.300079</td>\n    </tr>\n    <tr>\n      <th>4</th>\n      <td>0.661438</td>\n      <td>-1.224303</td>\n      <td>0.174141</td>\n      <td>-0.153526</td>\n      <td>0.95465</td>\n      <td>-0.864196</td>\n      <td>-0.493887</td>\n      <td>-0.919195</td>\n      <td>-0.369408</td>\n      <td>-0.195413</td>\n      <td>...</td>\n      <td>-0.300079</td>\n      <td>-0.5</td>\n      <td>-0.108306</td>\n      <td>-0.07636</td>\n      <td>-0.053916</td>\n      <td>0.831370</td>\n      <td>-0.108306</td>\n      <td>-3.100868</td>\n      <td>-0.108306</td>\n      <td>3.332456</td>\n    </tr>\n  </tbody>\n</table>\n<p>5 rows × 43 columns</p>\n</div>",
            "text/plain": "         A1        A2        A3        A8       A9       A10       A11  \\\n0  0.661438  0.001777 -0.956613 -0.291083  0.95465  1.157144 -0.288101   \n1 -1.511858  1.227857 -0.060051  0.244190  0.95465  1.157144  0.740830   \n2 -1.511858  0.001777 -0.856102 -0.216324  0.95465 -0.864196 -0.493887   \n3  0.661438  0.001777 -0.647038  0.456505  0.95465  1.157144  0.535044   \n4  0.661438 -1.224303  0.174141 -0.153526  0.95465 -0.864196 -0.493887   \n\n        A12       A14       A15    ...        A7_ff  A7_h      A7_j     A7_n  \\\n0 -0.919195  0.107155 -0.195413    ...    -0.300079  -0.5 -0.108306 -0.07636   \n1 -0.919195 -0.816912 -0.087852    ...    -0.300079   2.0 -0.108306 -0.07636   \n2 -0.919195  0.560471 -0.037144    ...    -0.300079   2.0 -0.108306 -0.07636   \n3  1.087908 -0.485643 -0.194837    ...    -0.300079  -0.5 -0.108306 -0.07636   \n4 -0.919195 -0.369408 -0.195413    ...    -0.300079  -0.5 -0.108306 -0.07636   \n\n       A7_o      A7_v      A7_z     A13_g     A13_p     A13_s  \n0 -0.053916  0.831370 -0.108306  0.322490 -0.108306 -0.300079  \n1 -0.053916 -1.202834 -0.108306  0.322490 -0.108306 -0.300079  \n2 -0.053916 -1.202834 -0.108306  0.322490 -0.108306 -0.300079  \n3 -0.053916  0.831370 -0.108306  0.322490 -0.108306 -0.300079  \n4 -0.053916  0.831370 -0.108306 -3.100868 -0.108306  3.332456  \n\n[5 rows x 43 columns]"
          },
          "execution_count": 22,
          "metadata": {},
          "output_type": "execute_result"
        }
      ]
    },
    {
      "metadata": {},
      "cell_type": "markdown",
      "source": "# # Saving to CSV"
    },
    {
      "metadata": {
        "trusted": false
      },
      "cell_type": "code",
      "source": "df_clean.to_csv('df_clean.csv', index=False)\n",
      "execution_count": 23,
      "outputs": []
    }
  ],
  "metadata": {
    "kernelspec": {
      "name": "python36",
      "display_name": "Python 3.6",
      "language": "python"
    },
    "language_info": {
      "mimetype": "text/x-python",
      "nbconvert_exporter": "python",
      "name": "python",
      "pygments_lexer": "ipython3",
      "version": "3.6.6",
      "file_extension": ".py",
      "codemirror_mode": {
        "version": 3,
        "name": "ipython"
      }
    }
  },
  "nbformat": 4,
  "nbformat_minor": 1
}